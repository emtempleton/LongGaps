{
 "cells": [
  {
   "cell_type": "markdown",
   "id": "7260bd0a",
   "metadata": {},
   "source": [
    "# Quantify distribution of all gap lengths\n",
    "\n",
    "Compute mean and standard deviation of all gap lengths across all conversations (friend and stranger)"
   ]
  },
  {
   "cell_type": "code",
   "execution_count": 1,
   "id": "32f42732",
   "metadata": {},
   "outputs": [],
   "source": [
    "import pandas as pd \n",
    "import numpy as np\n",
    "import os.path\n",
    "import matplotlib.pyplot as plt\n",
    "import seaborn as sns\n",
    "import glob\n",
    "\n",
    "%matplotlib inline\n",
    "sns.set_style(\"white\")\n",
    "\n",
    "base_dir = os.path.dirname(os.getcwd())"
   ]
  },
  {
   "cell_type": "code",
   "execution_count": 2,
   "id": "bb59008b",
   "metadata": {},
   "outputs": [],
   "source": [
    "all_gap_lengths = []\n",
    "\n",
    "flist_friends = glob.glob(os.path.join(base_dir, 'Analyses', 'turn_taking', 'friends', '*.csv'))\n",
    "\n",
    "for file in flist_friends:\n",
    "    data = pd.read_csv(file)\n",
    "    for i in range(len(data)):\n",
    "        all_gap_lengths.append(data.at[i, 'gap_length'])\n",
    "\n",
    "flist_strangers = glob.glob(os.path.join(base_dir, 'Analyses', 'turn_taking', 'strangers_pure', '*.csv'))\n",
    "\n",
    "for file in flist_strangers:\n",
    "    data = pd.read_csv(file)\n",
    "    for i in range(len(data)):\n",
    "        all_gap_lengths.append(data.at[i, 'gap_length'])"
   ]
  },
  {
   "cell_type": "code",
   "execution_count": 3,
   "id": "e8e39762",
   "metadata": {},
   "outputs": [
    {
     "data": {
      "text/plain": [
       "<seaborn.axisgrid.FacetGrid at 0x7fed4b08ea30>"
      ]
     },
     "execution_count": 3,
     "metadata": {},
     "output_type": "execute_result"
    },
    {
     "data": {
      "image/png": "[encoded data removed]",
      "text/plain": [
       "<Figure size 360x360 with 1 Axes>"
      ]
     },
     "metadata": {},
     "output_type": "display_data"
    }
   ],
   "source": [
    "sns.displot(all_gap_lengths)"
   ]
  },
  {
   "cell_type": "code",
   "execution_count": 4,
   "id": "5588bdde",
   "metadata": {},
   "outputs": [
    {
     "name": "stdout",
     "output_type": "stream",
     "text": [
      "mean: 248.2ms\n",
      "standard deviation: 598.02ms\n",
      "\n",
      "3 standard deviations above the mean: 2042.24ms\n"
     ]
    }
   ],
   "source": [
    "print('mean: ' + str(round(np.mean(all_gap_lengths), 2)) + 'ms')\n",
    "print('standard deviation: ' + str(round(np.std(all_gap_lengths), 2)) + 'ms')\n",
    "\n",
    "print()\n",
    "print('3 standard deviations above the mean: ' + \n",
    "      str(round(np.mean(all_gap_lengths) + (3*np.std(all_gap_lengths)), 2)) + 'ms')"
   ]
  }
 ],
 "metadata": {
  "kernelspec": {
   "display_name": "python3_8",
   "language": "python",
   "name": "python3_8"
  },
  "language_info": {
   "codemirror_mode": {
    "name": "ipython",
    "version": 3
   },
   "file_extension": ".py",
   "mimetype": "text/x-python",
   "name": "python",
   "nbconvert_exporter": "python",
   "pygments_lexer": "ipython3",
   "version": "3.8.8"
  }
 },
 "nbformat": 4,
 "nbformat_minor": 5
}
