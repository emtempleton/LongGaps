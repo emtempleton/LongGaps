{
 "cells": [
  {
   "cell_type": "code",
   "execution_count": 1,
   "id": "1a45c883",
   "metadata": {},
   "outputs": [],
   "source": [
    "import numpy as np\n",
    "import os\n",
    "import glob\n",
    "import pandas as pd\n",
    "\n",
    "base_dir = os.path.dirname(os.getcwd())"
   ]
  },
  {
   "cell_type": "markdown",
   "id": "20e69c8f",
   "metadata": {},
   "source": [
    "## Count the number of long gaps for stranger conversations"
   ]
  },
  {
   "cell_type": "code",
   "execution_count": 2,
   "id": "422bfc3c",
   "metadata": {},
   "outputs": [],
   "source": [
    "turns_strangers = pd.DataFrame()\n",
    "turns_strangers = turns_strangers.fillna(0)\n",
    "counter = 0\n",
    "\n",
    "flist = glob.glob(os.path.join(base_dir, 'Analyses', 'turn_taking', 'strangers', '*.csv'))\n",
    "\n",
    "for file in flist:\n",
    "    \n",
    "    name = file.split('/')[-1].split('.csv')[0]\n",
    "    \n",
    "    data = pd.read_csv(file)\n",
    "    \n",
    "    turns_long = data.loc[data['gap_length'] > 2000].reset_index(drop=True) # find gap lengths > 2 seconds long\n",
    "    \n",
    "    turns_strangers.at[counter, 'convo'] = name\n",
    "    turns_strangers.at[counter, 'n_long'] = len(turns_long)\n",
    "    turns_strangers.at[counter, 'n_not_long'] = len(data) - len(turns_long)\n",
    "\n",
    "    counter += 1"
   ]
  },
  {
   "cell_type": "code",
   "execution_count": 3,
   "id": "42335a7a",
   "metadata": {},
   "outputs": [
    {
     "data": {
      "text/html": [
       "<div>\n",
       "<style scoped>\n",
       "    .dataframe tbody tr th:only-of-type {\n",
       "        vertical-align: middle;\n",
       "    }\n",
       "\n",
       "    .dataframe tbody tr th {\n",
       "        vertical-align: top;\n",
       "    }\n",
       "\n",
       "    .dataframe thead th {\n",
       "        text-align: right;\n",
       "    }\n",
       "</style>\n",
       "<table border=\"1\" class=\"dataframe\">\n",
       "  <thead>\n",
       "    <tr style=\"text-align: right;\">\n",
       "      <th></th>\n",
       "      <th>convo</th>\n",
       "      <th>n_long</th>\n",
       "      <th>n_not_long</th>\n",
       "    </tr>\n",
       "  </thead>\n",
       "  <tbody>\n",
       "    <tr>\n",
       "      <th>0</th>\n",
       "      <td>103_101</td>\n",
       "      <td>4.0</td>\n",
       "      <td>164.0</td>\n",
       "    </tr>\n",
       "    <tr>\n",
       "      <th>1</th>\n",
       "      <td>24_25</td>\n",
       "      <td>0.0</td>\n",
       "      <td>128.0</td>\n",
       "    </tr>\n",
       "    <tr>\n",
       "      <th>2</th>\n",
       "      <td>4_6</td>\n",
       "      <td>0.0</td>\n",
       "      <td>94.0</td>\n",
       "    </tr>\n",
       "    <tr>\n",
       "      <th>3</th>\n",
       "      <td>102_110</td>\n",
       "      <td>2.0</td>\n",
       "      <td>199.0</td>\n",
       "    </tr>\n",
       "    <tr>\n",
       "      <th>4</th>\n",
       "      <td>102_104</td>\n",
       "      <td>3.0</td>\n",
       "      <td>188.0</td>\n",
       "    </tr>\n",
       "  </tbody>\n",
       "</table>\n",
       "</div>"
      ],
      "text/plain": [
       "     convo  n_long  n_not_long\n",
       "0  103_101     4.0       164.0\n",
       "1    24_25     0.0       128.0\n",
       "2      4_6     0.0        94.0\n",
       "3  102_110     2.0       199.0\n",
       "4  102_104     3.0       188.0"
      ]
     },
     "execution_count": 3,
     "metadata": {},
     "output_type": "execute_result"
    }
   ],
   "source": [
    "turns_strangers.head()"
   ]
  },
  {
   "cell_type": "markdown",
   "id": "7beb183c",
   "metadata": {},
   "source": [
    "## Count the number of long gaps for friend conversations"
   ]
  },
  {
   "cell_type": "code",
   "execution_count": 6,
   "id": "f488c005",
   "metadata": {},
   "outputs": [],
   "source": [
    "turns_friends = pd.DataFrame()\n",
    "turns_friends = turns_friends.fillna(0)\n",
    "counter = 0\n",
    "\n",
    "flist = glob.glob(os.path.join(base_dir, 'Analyses', 'turn_taking', 'friends', '*.csv'))\n",
    "\n",
    "for file in flist:\n",
    "    \n",
    "    name = file.split('/')[-1].split('.csv')[0]\n",
    "    \n",
    "    data = pd.read_csv(file)\n",
    "    \n",
    "    turns_long = data.loc[data['gap_length'] > 2000].reset_index(drop=True) # find gap lengths > 2 seconds long\n",
    "    \n",
    "    turns_friends.at[counter, 'convo'] = name\n",
    "    turns_friends.at[counter, 'n_long'] = len(turns_long)\n",
    "    turns_friends.at[counter, 'n_not_long'] = len(data) - len(turns_long)\n",
    "\n",
    "    counter += 1"
   ]
  },
  {
   "cell_type": "code",
   "execution_count": 7,
   "id": "8e77b218",
   "metadata": {},
   "outputs": [
    {
     "data": {
      "text/html": [
       "<div>\n",
       "<style scoped>\n",
       "    .dataframe tbody tr th:only-of-type {\n",
       "        vertical-align: middle;\n",
       "    }\n",
       "\n",
       "    .dataframe tbody tr th {\n",
       "        vertical-align: top;\n",
       "    }\n",
       "\n",
       "    .dataframe thead th {\n",
       "        text-align: right;\n",
       "    }\n",
       "</style>\n",
       "<table border=\"1\" class=\"dataframe\">\n",
       "  <thead>\n",
       "    <tr style=\"text-align: right;\">\n",
       "      <th></th>\n",
       "      <th>convo</th>\n",
       "      <th>n_long</th>\n",
       "      <th>n_not_long</th>\n",
       "    </tr>\n",
       "  </thead>\n",
       "  <tbody>\n",
       "    <tr>\n",
       "      <th>0</th>\n",
       "      <td>21_211</td>\n",
       "      <td>0.0</td>\n",
       "      <td>127.0</td>\n",
       "    </tr>\n",
       "    <tr>\n",
       "      <th>1</th>\n",
       "      <td>8_235</td>\n",
       "      <td>4.0</td>\n",
       "      <td>150.0</td>\n",
       "    </tr>\n",
       "    <tr>\n",
       "      <th>2</th>\n",
       "      <td>23_260</td>\n",
       "      <td>0.0</td>\n",
       "      <td>158.0</td>\n",
       "    </tr>\n",
       "    <tr>\n",
       "      <th>3</th>\n",
       "      <td>30_215</td>\n",
       "      <td>3.0</td>\n",
       "      <td>131.0</td>\n",
       "    </tr>\n",
       "    <tr>\n",
       "      <th>4</th>\n",
       "      <td>101_207</td>\n",
       "      <td>0.0</td>\n",
       "      <td>160.0</td>\n",
       "    </tr>\n",
       "  </tbody>\n",
       "</table>\n",
       "</div>"
      ],
      "text/plain": [
       "     convo  n_long  n_not_long\n",
       "0   21_211     0.0       127.0\n",
       "1    8_235     4.0       150.0\n",
       "2   23_260     0.0       158.0\n",
       "3   30_215     3.0       131.0\n",
       "4  101_207     0.0       160.0"
      ]
     },
     "execution_count": 7,
     "metadata": {},
     "output_type": "execute_result"
    }
   ],
   "source": [
    "turns_friends.head()"
   ]
  },
  {
   "cell_type": "markdown",
   "id": "b79d9b9b",
   "metadata": {},
   "source": [
    "## Chi-sqaure test"
   ]
  },
  {
   "cell_type": "code",
   "execution_count": 8,
   "id": "b530fbd1",
   "metadata": {},
   "outputs": [
    {
     "data": {
      "text/plain": [
       "[[218, 9346], [346, 47614]]"
      ]
     },
     "execution_count": 8,
     "metadata": {},
     "output_type": "execute_result"
    }
   ],
   "source": [
    "data = [[int(np.sum(turns_friends['n_long'])), int(np.sum(turns_friends['n_not_long']))], \n",
    "        [int(np.sum(turns_strangers['n_long'])), int(np.sum(turns_strangers['n_not_long']))]]\n",
    "data"
   ]
  },
  {
   "cell_type": "code",
   "execution_count": 9,
   "id": "c9402719",
   "metadata": {},
   "outputs": [],
   "source": [
    "from scipy.stats import chi2_contingency\n",
    "\n",
    "stat, p, dof, expected = chi2_contingency(data)"
   ]
  },
  {
   "cell_type": "code",
   "execution_count": 10,
   "id": "333d3a39",
   "metadata": {},
   "outputs": [
    {
     "name": "stdout",
     "output_type": "stream",
     "text": [
      "stat: 197.7519734203746\n",
      "p-value: 6.462717395100015e-45\n",
      "n: 57524\n"
     ]
    }
   ],
   "source": [
    "print('stat: ' + str(stat))\n",
    "print('p-value: ' + str(p))\n",
    "print('n: ' + str(218 + 9346 + 346 + 47614))"
   ]
  }
 ],
 "metadata": {
  "kernelspec": {
   "display_name": "python3_8",
   "language": "python",
   "name": "python3_8"
  },
  "language_info": {
   "codemirror_mode": {
    "name": "ipython",
    "version": 3
   },
   "file_extension": ".py",
   "mimetype": "text/x-python",
   "name": "python",
   "nbconvert_exporter": "python",
   "pygments_lexer": "ipython3",
   "version": "3.8.8"
  }
 },
 "nbformat": 4,
 "nbformat_minor": 5
}
