{
 "cells": [
  {
   "cell_type": "markdown",
   "id": "3c1f69a9",
   "metadata": {},
   "source": [
    "Because this paper specifically investigates strangers vs friends, we want to ensure that all dyads from the round-robin dataset were actually strangers. \n",
    "\n",
    "Conversation partners in this dataser were assigned by an experimenter. To ensure that participants did not know each other we asked them “How well did you know your study partner before today?” (0 = Not well at all, 50 = Moderately well, and 100 = Extremely well). \n",
    "\n",
    "In order to limit our analyses to true strangers who do not know each other, we excluded 61 dyads where both dyad members indicated a response greater than 0 on this question. The analyses reported in this paper come from 261 stranger dyads. However, note that results are similar with all dyads included. \n",
    "\n",
    "This script identifies the true stranger dyads and copies their data from the 'round_robin' folder to the 'strangers_pure' folder."
   ]
  },
  {
   "cell_type": "code",
   "execution_count": 1,
   "id": "97f8f733",
   "metadata": {},
   "outputs": [],
   "source": [
    "import numpy as np\n",
    "import os\n",
    "import glob\n",
    "import pandas as pd\n",
    "import matplotlib.pyplot as plt\n",
    "import seaborn as sns\n",
    "\n",
    "%matplotlib inline\n",
    "sns.set_style(\"white\")\n",
    "\n",
    "base_dir = os.path.dirname(os.getcwd())"
   ]
  },
  {
   "cell_type": "code",
   "execution_count": 5,
   "id": "b0cea461",
   "metadata": {},
   "outputs": [],
   "source": [
    "data = pd.read_csv(os.path.join(base_dir, 'Data', 'post_convo_survey', \n",
    "                                'strangers', 'data_common_questions.csv'))       \n"
   ]
  },
  {
   "cell_type": "code",
   "execution_count": 6,
   "id": "df5155de",
   "metadata": {},
   "outputs": [
    {
     "data": {
      "text/plain": [
       "(array([516.,  28.,  19.,  15.,   8.,  23.,  12.,   9.,   8.,   6.]),\n",
       " array([ 0. ,  9.9, 19.8, 29.7, 39.6, 49.5, 59.4, 69.3, 79.2, 89.1, 99. ]),\n",
       " <BarContainer object of 10 artists>)"
      ]
     },
     "execution_count": 6,
     "metadata": {},
     "output_type": "execute_result"
    },
    {
     "data": {
      "image/png": "[encoded data removed]",
      "text/plain": [
       "<Figure size 432x288 with 1 Axes>"
      ]
     },
     "metadata": {},
     "output_type": "display_data"
    }
   ],
   "source": [
    "plt.hist(data['knew_before'])"
   ]
  },
  {
   "cell_type": "markdown",
   "id": "c39a7ffc",
   "metadata": {},
   "source": [
    "### Exclude dyads where both people endorsed knowing their partner"
   ]
  },
  {
   "cell_type": "code",
   "execution_count": 7,
   "id": "855da4c7",
   "metadata": {},
   "outputs": [
    {
     "name": "stdout",
     "output_type": "stream",
     "text": [
      "61\n",
      "18.94\n"
     ]
    }
   ],
   "source": [
    "dyads = []\n",
    "\n",
    "for i in data['dyad'].unique():\n",
    "    \n",
    "    data_subset = data.loc[data['dyad'] == i].reset_index(drop=True)\n",
    "    data_knew_before = data_subset.loc[data_subset['knew_before'] > 0].reset_index(drop=True)\n",
    "    if len(data_knew_before) == 2:\n",
    "        dyads.append(i)\n",
    "        \n",
    "print(len(dyads))\n",
    "print(round((len(dyads) / 322)*100,2))"
   ]
  },
  {
   "cell_type": "markdown",
   "id": "415e27d0",
   "metadata": {},
   "source": [
    "# Create a new folder of stranger turn-taking data\n",
    "\n",
    "Limiting it to the \"true\" strangers\n",
    "\n",
    "Make a subset of data to the pure strangers. Create a filename by joining subID and partnerID. Check to see if that file exists in the turn_taking folder. If it does, copy it to the other folder."
   ]
  },
  {
   "cell_type": "code",
   "execution_count": null,
   "id": "45e3a02b",
   "metadata": {},
   "outputs": [],
   "source": [
    "pure_strangers = data.loc[~data['dyad'].isin(dyads)].reset_index(drop=True)\n",
    "\n",
    "for i in range(len(pure_strangers)):\n",
    "    file_name = str(pure_strangers.at[i, 'subID']) + '_' + str(pure_strangers.at[i, 'partnerID'])\n",
    "    \n",
    "    path_to_file_original = os.path.join(base_dir, 'Analyses', 'turn_taking', 'round_robin', '{}.csv'.format(file_name))\n",
    "    \n",
    "    if os.path.exists(path_to_file_original):\n",
    "        path_to_file_copy = os.path.join(base_dir, 'Analyses', 'turn_taking', 'strangers_pure', '{}.csv'.format(file_name))\n",
    "        shutil.copyfile(path_to_file_original, path_to_file_copy)\n",
    "        "
   ]
  }
 ],
 "metadata": {
  "kernelspec": {
   "display_name": "python3_8",
   "language": "python",
   "name": "python3_8"
  },
  "language_info": {
   "codemirror_mode": {
    "name": "ipython",
    "version": 3
   },
   "file_extension": ".py",
   "mimetype": "text/x-python",
   "name": "python",
   "nbconvert_exporter": "python",
   "pygments_lexer": "ipython3",
   "version": "3.8.8"
  }
 },
 "nbformat": 4,
 "nbformat_minor": 5
}
