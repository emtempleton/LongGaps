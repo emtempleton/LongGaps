{
 "cells": [
  {
   "cell_type": "code",
   "execution_count": 1,
   "id": "cbe56972",
   "metadata": {},
   "outputs": [],
   "source": [
    "import pandas as pd \n",
    "import numpy as np\n",
    "import os.path\n",
    "import glob\n",
    "from scipy import stats\n",
    "import statsmodels\n",
    "\n",
    "base_dir = os.path.dirname(os.getcwd())"
   ]
  },
  {
   "cell_type": "code",
   "execution_count": 13,
   "id": "21bcc7eb",
   "metadata": {},
   "outputs": [],
   "source": [
    "data = pd.read_csv(os.path.join(base_dir, 'Supplement', 'laughter_annotation.csv'))\n",
    "strangers = data.loc[data['condition'] == 'strangers'].reset_index(drop=True)\n",
    "friends = data.loc[data['condition'] == 'friends'].reset_index(drop=True)"
   ]
  },
  {
   "cell_type": "code",
   "execution_count": 5,
   "id": "1cd0a286",
   "metadata": {},
   "outputs": [
    {
     "data": {
      "text/plain": [
       "no     308\n",
       "yes    156\n",
       "Name: laughter, dtype: int64"
      ]
     },
     "execution_count": 5,
     "metadata": {},
     "output_type": "execute_result"
    }
   ],
   "source": [
    "data['laughter'].value_counts()"
   ]
  },
  {
   "cell_type": "code",
   "execution_count": 6,
   "id": "5114cb37",
   "metadata": {},
   "outputs": [
    {
     "data": {
      "text/plain": [
       "no     188\n",
       "yes     74\n",
       "Name: laughter, dtype: int64"
      ]
     },
     "execution_count": 6,
     "metadata": {},
     "output_type": "execute_result"
    }
   ],
   "source": [
    "strangers['laughter'].value_counts()"
   ]
  },
  {
   "cell_type": "code",
   "execution_count": 7,
   "id": "24cbb1e2",
   "metadata": {},
   "outputs": [
    {
     "data": {
      "text/plain": [
       "0.2824427480916031"
      ]
     },
     "execution_count": 7,
     "metadata": {},
     "output_type": "execute_result"
    }
   ],
   "source": [
    "74/len(strangers)"
   ]
  },
  {
   "cell_type": "code",
   "execution_count": 8,
   "id": "3ba64b3c",
   "metadata": {},
   "outputs": [
    {
     "data": {
      "text/plain": [
       "no     120\n",
       "yes     82\n",
       "Name: laughter, dtype: int64"
      ]
     },
     "execution_count": 8,
     "metadata": {},
     "output_type": "execute_result"
    }
   ],
   "source": [
    "friends['laughter'].value_counts()"
   ]
  },
  {
   "cell_type": "code",
   "execution_count": 9,
   "id": "a41708f1",
   "metadata": {},
   "outputs": [
    {
     "data": {
      "text/plain": [
       "0.40594059405940597"
      ]
     },
     "execution_count": 9,
     "metadata": {},
     "output_type": "execute_result"
    }
   ],
   "source": [
    "82/len(friends)"
   ]
  },
  {
   "cell_type": "markdown",
   "id": "4c867e8f",
   "metadata": {},
   "source": [
    "Include in main dataframe to examine if laughter mediates relationship between condition and change in connection"
   ]
  },
  {
   "cell_type": "code",
   "execution_count": 14,
   "id": "2a4563fa",
   "metadata": {},
   "outputs": [],
   "source": [
    "connection_changes = pd.read_csv(os.path.join(base_dir, 'Analyses', 'long_gap_connection_all_long_format.csv'))\n"
   ]
  },
  {
   "cell_type": "code",
   "execution_count": 15,
   "id": "46a65ecb",
   "metadata": {},
   "outputs": [],
   "source": [
    "data_full = pd.merge(data, connection_changes, how='inner', on=['dyad', 'turn_num'])"
   ]
  },
  {
   "cell_type": "code",
   "execution_count": 16,
   "id": "4f300181",
   "metadata": {},
   "outputs": [],
   "source": [
    "data_full.to_csv(os.path.join(base_dir, 'Analyses',\n",
    "                              'long_gap_connection_all_long_format_laughter.csv'),\n",
    "                        encoding='utf-8', index=False)"
   ]
  },
  {
   "cell_type": "code",
   "execution_count": 17,
   "id": "a6b81795",
   "metadata": {},
   "outputs": [],
   "source": [
    "strangers_full = data_full.loc[data_full['condition_x'] == 'strangers'].reset_index(drop=True)\n",
    "friends_full = data_full.loc[data_full['condition_x'] == 'friends'].reset_index(drop=True)"
   ]
  },
  {
   "cell_type": "code",
   "execution_count": 18,
   "id": "70ec7b93",
   "metadata": {},
   "outputs": [],
   "source": [
    "strangers_full.to_csv(os.path.join(base_dir, 'Analyses',\n",
    "                              'long_gap_connection_all_long_format_laughter_strangers.csv'),\n",
    "                        encoding='utf-8', index=False)\n",
    "\n",
    "friends_full.to_csv(os.path.join(base_dir, 'Analyses',\n",
    "                              'long_gap_connection_all_long_format_laughter_friends.csv'),\n",
    "                        encoding='utf-8', index=False)"
   ]
  }
 ],
 "metadata": {
  "kernelspec": {
   "display_name": "python3_8",
   "language": "python",
   "name": "python3_8"
  },
  "language_info": {
   "codemirror_mode": {
    "name": "ipython",
    "version": 3
   },
   "file_extension": ".py",
   "mimetype": "text/x-python",
   "name": "python",
   "nbconvert_exporter": "python",
   "pygments_lexer": "ipython3",
   "version": "3.8.8"
  }
 },
 "nbformat": 4,
 "nbformat_minor": 5
}
