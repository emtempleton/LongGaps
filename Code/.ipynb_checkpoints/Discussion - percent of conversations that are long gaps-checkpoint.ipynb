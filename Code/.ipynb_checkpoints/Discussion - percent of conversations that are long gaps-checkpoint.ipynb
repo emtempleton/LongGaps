{
 "cells": [
  {
   "cell_type": "markdown",
   "id": "e2fec2de",
   "metadata": {},
   "source": [
    "On average, what is the percentage of conversations that contain long gaps? Compute separately for friends and strangers."
   ]
  },
  {
   "cell_type": "code",
   "execution_count": 1,
   "id": "320bfaf0",
   "metadata": {},
   "outputs": [],
   "source": [
    "import numpy as np\n",
    "import os\n",
    "import glob\n",
    "import pandas as pd\n",
    "\n",
    "base_dir = os.path.dirname(os.getcwd())"
   ]
  },
  {
   "cell_type": "markdown",
   "id": "e692062f",
   "metadata": {},
   "source": [
    "# Strangers"
   ]
  },
  {
   "cell_type": "code",
   "execution_count": 2,
   "id": "812741ae",
   "metadata": {},
   "outputs": [
    {
     "data": {
      "text/plain": [
       "0.4768975155279503"
      ]
     },
     "execution_count": 2,
     "metadata": {},
     "output_type": "execute_result"
    }
   ],
   "source": [
    "total_time = 0\n",
    "\n",
    "flist = glob.glob(os.path.join(base_dir, 'Analyses', 'turn_taking', 'strangers', '*.csv'))\n",
    "\n",
    "for file in flist:\n",
    "        \n",
    "    data = pd.read_csv(file)\n",
    "    \n",
    "    turns_long = data.loc[data['gap_length'] > 2000].reset_index(drop=True)\n",
    "    \n",
    "    if len(turns_long) > 0:\n",
    "        \n",
    "        total_time += np.sum(turns_long['gap_length'])\n",
    "        \n",
    "(total_time / (len(flist) * 600000)) * 100"
   ]
  },
  {
   "cell_type": "markdown",
   "id": "df8676d8",
   "metadata": {},
   "source": [
    "# Friends"
   ]
  },
  {
   "cell_type": "code",
   "execution_count": 3,
   "id": "3ab3f706",
   "metadata": {},
   "outputs": [
    {
     "data": {
      "text/plain": [
       "1.606897435897436"
      ]
     },
     "execution_count": 3,
     "metadata": {},
     "output_type": "execute_result"
    }
   ],
   "source": [
    "total_time = 0\n",
    "\n",
    "flist = glob.glob(os.path.join(base_dir, 'Analyses', 'turn_taking', 'friends', '*.csv'))\n",
    "\n",
    "for file in flist:\n",
    "        \n",
    "    data = pd.read_csv(file)\n",
    "    \n",
    "    turns_long = data.loc[data['gap_length'] > 2000].reset_index(drop=True)\n",
    "    \n",
    "    if len(turns_long) > 0:\n",
    "        \n",
    "        total_time += np.sum(turns_long['gap_length'])\n",
    "        \n",
    "(total_time / (len(flist) * 600000)) * 100"
   ]
  }
 ],
 "metadata": {
  "kernelspec": {
   "display_name": "python3_8",
   "language": "python",
   "name": "python3_8"
  },
  "language_info": {
   "codemirror_mode": {
    "name": "ipython",
    "version": 3
   },
   "file_extension": ".py",
   "mimetype": "text/x-python",
   "name": "python",
   "nbconvert_exporter": "python",
   "pygments_lexer": "ipython3",
   "version": "3.8.8"
  }
 },
 "nbformat": 4,
 "nbformat_minor": 5
}
